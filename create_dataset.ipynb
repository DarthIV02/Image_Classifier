{
 "cells": [
  {
   "cell_type": "markdown",
   "metadata": {},
   "source": [
    "# Initial Normalization of Images"
   ]
  },
  {
   "cell_type": "code",
   "execution_count": 1,
   "metadata": {},
   "outputs": [],
   "source": [
    "from PIL import Image, ImageEnhance\n",
    "import os\n",
    "from tqdm import tqdm\n",
    "import cv2"
   ]
  },
  {
   "cell_type": "code",
   "execution_count": 2,
   "metadata": {},
   "outputs": [],
   "source": [
    "def normalize_images(dataset_dir, dir, new_dir, img):\n",
    "    image = Image.open(os.path.join(dataset_dir, dir,img))\n",
    "    new_image = image.resize((256, 256))\n",
    "    new_image.save(os.path.join(dataset_dir, new_dir, img))"
   ]
  },
  {
   "cell_type": "markdown",
   "metadata": {},
   "source": [
    "Resize Landscape images to 64x64"
   ]
  },
  {
   "cell_type": "code",
   "execution_count": 6,
   "metadata": {},
   "outputs": [
    {
     "name": "stderr",
     "output_type": "stream",
     "text": [
      "100%|██████████| 4319/4319 [02:26<00:00, 29.52it/s]\n"
     ]
    }
   ],
   "source": [
    "for i in tqdm(os.listdir('../dataset/landscape_dat/landscapes')):\n",
    "    normalize_images('../dataset/landscape_dat', 'landscapes', 'landscape_256x256', i)"
   ]
  },
  {
   "cell_type": "code",
   "execution_count": 7,
   "metadata": {},
   "outputs": [],
   "source": [
    "def color_to_bw(dataset_dir, dir, new_dir, img):\n",
    "    image = Image.open(os.path.join(dataset_dir, dir, img))\n",
    "    image_new = image.convert('L')\n",
    "    image_new.save(os.path.join(dataset_dir, new_dir, img))"
   ]
  },
  {
   "cell_type": "code",
   "execution_count": 8,
   "metadata": {},
   "outputs": [
    {
     "name": "stderr",
     "output_type": "stream",
     "text": [
      "100%|██████████| 4319/4319 [00:39<00:00, 109.05it/s]\n"
     ]
    }
   ],
   "source": [
    "for i in tqdm(os.listdir('../dataset/landscape_dat/landscape_256x256')):\n",
    "    color_to_bw('../dataset/landscape_dat', 'landscape_256x256', 'landscape_256x256_bw', i)"
   ]
  },
  {
   "cell_type": "markdown",
   "metadata": {},
   "source": [
    "# Run each Model"
   ]
  },
  {
   "cell_type": "markdown",
   "metadata": {},
   "source": [
    "# Testing and Creating Dataset"
   ]
  },
  {
   "cell_type": "code",
   "execution_count": 5,
   "metadata": {},
   "outputs": [],
   "source": [
    "import cv2\n",
    "import csv\n",
    "from skimage.color import rgb2lab\n",
    "import numpy as np\n",
    "from tqdm import tqdm\n",
    "\n",
    "def mse(imageA, imageB):\n",
    "    # Mean Squared Error calculation\n",
    "    err = np.sum((imageA.astype(\"float\") - imageB.astype(\"float\")) ** 2)\n",
    "    err /= float(imageA.shape[0] * imageA.shape[1])\n",
    "    return err\n",
    "\n",
    "def total_mse_2_images(image1_path, image_2_path):\n",
    "    # Load images\n",
    "    image1 = cv2.imread(image1_path)\n",
    "    image2 = cv2.imread(image_2_path)\n",
    "\n",
    "    # Convert images to LAB space\n",
    "    image1_lab = rgb2lab(image1)\n",
    "    image2_lab = rgb2lab(image2)\n",
    "\n",
    "    # Split LAB images into L, A, B channels\n",
    "    L1, A1, B1 = cv2.split(image1_lab)\n",
    "    L2, A2, B2 = cv2.split(image2_lab)\n",
    "\n",
    "    # Calculate MSE for each channel\n",
    "    mse_A = mse(A1, A2)\n",
    "    mse_B = mse(B1, B2)\n",
    "\n",
    "    return mse_A, mse_B\n",
    "\n",
    "original = os.listdir('../dataset/landscape_dat/landscape_64x64/')\n",
    "original = ['../dataset/landscape_dat/landscape_64x64/' + org for org in original]\n",
    "infer = os.listdir('ddcolor/results/')\n",
    "models = ['ddcolor', 'larsson_2016', 'siggraph_2016', 'zhang_2016']\n"
   ]
  },
  {
   "cell_type": "code",
   "execution_count": null,
   "metadata": {},
   "outputs": [],
   "source": [
    "with open('dataset_64x64.csv', 'w', newline='') as csvfile:\n",
    "    fieldnames = ['datatype', 'image', 'model']\n",
    "    writer = csv.DictWriter(csvfile, fieldnames=fieldnames)\n",
    "\n",
    "    writer.writeheader()\n",
    "    \n",
    "    for org, inf in zip(original, infer):\n",
    "        \n",
    "        mse_total_A = []\n",
    "        mse_total_B = []\n",
    "        \n",
    "        for data in models:\n",
    "            inf_complete = f'{data}/results/'+ inf\n",
    "            try:\n",
    "                mse_A, mse_B = total_mse_2_images(org, inf_complete)\n",
    "            except:\n",
    "                mse_A, mse_B = 1000, 1000\n",
    "            mse_total_A.append(mse_A)\n",
    "            mse_total_B.append(mse_B)\n",
    "        \n",
    "        mse_total_A = np.array(mse_total_A)\n",
    "        mse_total_B = np.array(mse_total_B)\n",
    "        mse_total = (mse_total_A + mse_total_B)/2\n",
    "\n",
    "        model = models[np.argmin(mse_total)]\n",
    "        \n",
    "        print(inf,model)\n",
    "        writer.writerow({'datatype':'landscape', 'image':inf, 'model':model})"
   ]
  },
  {
   "cell_type": "code",
   "execution_count": 10,
   "metadata": {},
   "outputs": [
    {
     "name": "stdout",
     "output_type": "stream",
     "text": [
      "../dataset/landscape_dat/landscape_256x256/00000000_(2).jpg\n",
      "[200.21639326536896, 286.00041946645996, 207.64039857537875, 345.0714454340192]\n",
      "[779.5754207575126, 2335.450302120792, 640.8708465659748, 1652.4554764326892]\n"
     ]
    }
   ],
   "source": [
    "# Testing single image\n",
    "\n",
    "mse_total_A = []\n",
    "mse_total_B = []\n",
    "\n",
    "org = '../dataset/landscape_dat/landscape_256x256/00000000_(2).jpg'\n",
    "\n",
    "print(org)\n",
    "\n",
    "for model in models:\n",
    "    inf_complete = f'{model}/results_256x256/00000000_(2).jpg'\n",
    "    try:\n",
    "        mse_A, mse_B = total_mse_2_images(org, inf_complete)\n",
    "    except:\n",
    "        mse_A, mse_B = 1000, 1000\n",
    "    mse_total_A.append(mse_A)\n",
    "    mse_total_B.append(mse_B)\n",
    "\n",
    "print(mse_total_A)\n",
    "print(mse_total_B)\n",
    "\n",
    "models = ['ddcolor', 'larsson_2016', 'siggraph_2016', 'zhang_2016']"
   ]
  }
 ],
 "metadata": {
  "kernelspec": {
   "display_name": "colorizer_img",
   "language": "python",
   "name": "python3"
  },
  "language_info": {
   "codemirror_mode": {
    "name": "ipython",
    "version": 3
   },
   "file_extension": ".py",
   "mimetype": "text/x-python",
   "name": "python",
   "nbconvert_exporter": "python",
   "pygments_lexer": "ipython3",
   "version": "3.11.8"
  }
 },
 "nbformat": 4,
 "nbformat_minor": 2
}
