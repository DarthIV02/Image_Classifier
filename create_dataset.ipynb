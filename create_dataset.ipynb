{
 "cells": [
  {
   "cell_type": "markdown",
   "metadata": {},
   "source": [
    "# Initial Normalization of Images"
   ]
  },
  {
   "cell_type": "code",
   "execution_count": 31,
   "metadata": {},
   "outputs": [],
   "source": [
    "from PIL import Image, ImageEnhance\n",
    "import os\n",
    "from tqdm import tqdm\n",
    "import cv2"
   ]
  },
  {
   "cell_type": "code",
   "execution_count": 6,
   "metadata": {},
   "outputs": [],
   "source": [
    "def normalize_images(dataset_dir, dir, new_dir, img):\n",
    "    image = Image.open(os.path.join(dataset_dir, dir,img))\n",
    "    new_image = image.resize((64, 64))\n",
    "    new_image.save(os.path.join(dataset_dir, new_dir, img))"
   ]
  },
  {
   "cell_type": "markdown",
   "metadata": {},
   "source": [
    "Resize Landscape images to 64x64"
   ]
  },
  {
   "cell_type": "code",
   "execution_count": 10,
   "metadata": {},
   "outputs": [
    {
     "name": "stderr",
     "output_type": "stream",
     "text": [
      "100%|██████████| 4319/4319 [02:28<00:00, 28.99it/s]\n"
     ]
    }
   ],
   "source": [
    "for i in tqdm(os.listdir('dataset/landscapes')):\n",
    "    normalize_images('dataset', 'landscapes', 'landscape_64x64', i)"
   ]
  },
  {
   "cell_type": "code",
   "execution_count": 37,
   "metadata": {},
   "outputs": [],
   "source": [
    "def color_to_bw(dataset_dir, dir, new_dir, img):\n",
    "    image = Image.open(os.path.join(dataset_dir, dir, img))\n",
    "    image_new = image.convert('L')\n",
    "    image_new.save(os.path.join(dataset_dir, new_dir, img))"
   ]
  },
  {
   "cell_type": "code",
   "execution_count": 38,
   "metadata": {},
   "outputs": [
    {
     "name": "stderr",
     "output_type": "stream",
     "text": [
      "100%|██████████| 4319/4319 [00:45<00:00, 94.53it/s] \n"
     ]
    }
   ],
   "source": [
    "for i in tqdm(os.listdir('dataset/landscape_64x64')):\n",
    "    color_to_bw('dataset', 'landscape_64x64', 'landscape_64x64_bw', i)"
   ]
  },
  {
   "cell_type": "markdown",
   "metadata": {},
   "source": [
    "# Models"
   ]
  },
  {
   "cell_type": "markdown",
   "metadata": {},
   "source": [
    "## Siggraph 2016"
   ]
  },
  {
   "cell_type": "code",
   "execution_count": 42,
   "metadata": {},
   "outputs": [
    {
     "name": "stdout",
     "output_type": "stream",
     "text": [
      "Couldn't find program: 'bash'\n"
     ]
    }
   ],
   "source": [
    "%%bash\n",
    "\n",
    "FILENAME=\"colornet.t7\"\n",
    "FILEURL=\"http://iizuka.cs.tsukuba.ac.jp/data/colornet.t7\"\n",
    "FILEMD5=\"c88fa2bb6dc9f942a492a7dc7009b966\"\n",
    "\n",
    "echo \"Downloading the colorization model (663M)...\"\n",
    "wget --continue -O \"$FILENAME\" -- \"$FILEURL\"\n",
    "\n",
    "echo \"Checking integrity (md5sum)...\"\n",
    "OS=`uname -s`\n",
    "if [ \"$OS\" = \"Darwin\" ]; then\n",
    "  CHECKSUM=`cat $FILENAME | md5`\n",
    "  else\n",
    "  CHECKSUM=`md5sum $FILENAME | awk '{ print $1 }'`\n",
    "fi\n",
    "\n",
    "if [ \"$CHECKSUM\" != \"$FILEMD5\" ]; then\n",
    "  echo \"Integrity check failed. File is corrupt!\"\n",
    "  echo \"Try running this script again and if it fails remove '$FILENAME' before trying again.\"\n",
    "  exit 1\n",
    "fi \n",
    "echo -e \"Download finished successfully! Time to \\e[31mc\\e[32mo\\e[33m\\e[34ml\\e[35mo\\e[36mr\\e[37mi\\e[91mz\\e[92me\\e[93m\\e[94m!\\e[m\"\n"
   ]
  },
  {
   "cell_type": "code",
   "execution_count": 12,
   "metadata": {},
   "outputs": [
    {
     "name": "stdout",
     "output_type": "stream",
     "text": [
      "d:\\Documents\\Escuela\\8vo. Semestre\\Deep Learning\\Proyecto_Final\n"
     ]
    }
   ],
   "source": [
    "cd .."
   ]
  },
  {
   "cell_type": "code",
   "execution_count": 13,
   "metadata": {},
   "outputs": [
    {
     "name": "stdout",
     "output_type": "stream",
     "text": [
      "Submodule path 'exe/env': checked out 'd28424ac5b638686410304c60c31693849f3d1dd'"
     ]
    },
    {
     "name": "stderr",
     "output_type": "stream",
     "text": [
      "Cloning into 'torch'...\n",
      "Submodule 'exe/env' (https://github.com/torch/env.git) registered for path 'exe/env'\n",
      "Submodule 'exe/luajit-rocks' (https://github.com/torch/luajit-rocks.git) registered for path 'exe/luajit-rocks'\n",
      "Submodule 'exe/qtlua' (https://github.com/torch/qtlua.git) registered for path 'exe/qtlua'\n",
      "Submodule 'exe/trepl' (https://github.com/torch/trepl.git) registered for path 'exe/trepl'\n",
      "Submodule 'extra/argcheck' (https://github.com/torch/argcheck.git) registered for path 'extra/argcheck'\n",
      "Submodule 'extra/cudnn' (https://github.com/nagadomi/cudnn.torch.git) registered for path 'extra/cudnn'\n",
      "Submodule 'extra/cunn' (https://github.com/nagadomi/cunn.git) registered for path 'extra/cunn'\n",
      "Submodule 'extra/cutorch' (https://github.com/nagadomi/cutorch.git) registered for path 'extra/cutorch'\n",
      "Submodule 'extra/graph' (https://github.com/torch/graph) registered for path 'extra/graph'\n",
      "Submodule 'extra/lua-cjson' (https://github.com/mpx/lua-cjson) registered for path 'extra/lua-cjson'\n",
      "Submodule 'extra/luaffifb' (https://github.com/facebook/luaffifb) registered for path 'extra/luaffifb'\n",
      "Submodule 'extra/luafilesystem' (https://github.com/keplerproject/luafilesystem.git) registered for path 'extra/luafilesystem'\n",
      "Submodule 'extra/moses' (https://github.com/Yonaba/Moses.git) registered for path 'extra/moses'\n",
      "Submodule 'extra/nn' (https://github.com/torch/nn.git) registered for path 'extra/nn'\n",
      "Submodule 'extra/nngraph' (https://github.com/torch/nngraph) registered for path 'extra/nngraph'\n",
      "Submodule 'extra/nnx' (https://github.com/clementfarabet/lua---nnx.git) registered for path 'extra/nnx'\n",
      "Submodule 'extra/penlight' (https://github.com/stevedonovan/Penlight.git) registered for path 'extra/penlight'\n",
      "Submodule 'extra/threads' (https://github.com/torch/threads-ffi.git) registered for path 'extra/threads'\n",
      "Submodule 'pkg/cwrap' (https://github.com/torch/cwrap.git) registered for path 'pkg/cwrap'\n",
      "Submodule 'pkg/dok' (https://github.com/torch/dok.git) registered for path 'pkg/dok'\n",
      "Submodule 'pkg/gnuplot' (https://github.com/torch/gnuplot.git) registered for path 'pkg/gnuplot'\n",
      "Submodule 'pkg/image' (https://github.com/torch/image.git) registered for path 'pkg/image'\n",
      "Submodule 'pkg/optim' (https://github.com/torch/optim.git) registered for path 'pkg/optim'\n",
      "Submodule 'pkg/paths' (https://github.com/torch/paths.git) registered for path 'pkg/paths'\n",
      "Submodule 'pkg/qttorch' (https://github.com/torch/qttorch.git) registered for path 'pkg/qttorch'\n",
      "Submodule 'pkg/sundown' (https://github.com/torch/sundown-ffi.git) registered for path 'pkg/sundown'\n",
      "Submodule 'pkg/sys' (https://github.com/torch/sys.git) registered for path 'pkg/sys'\n",
      "Submodule 'pkg/torch' (https://github.com/torch/torch7.git) registered for path 'pkg/torch'\n",
      "Submodule 'pkg/xlua' (https://github.com/torch/xlua.git) registered for path 'pkg/xlua'\n",
      "Cloning into 'D:/Documents/Escuela/8vo. Semestre/Deep Learning/Proyecto_Final/torch/exe/env'...\n",
      "Cloning into 'D:/Documents/Escuela/8vo. Semestre/Deep Learning/Proyecto_Final/torch/exe/luajit-rocks'...\n",
      "Cloning into 'D:/Documents/Escuela/8vo. Semestre/Deep Learning/Proyecto_Final/torch/exe/qtlua'...\n",
      "Cloning into 'D:/Documents/Escuela/8vo. Semestre/Deep Learning/Proyecto_Final/torch/exe/trepl'...\n",
      "Cloning into 'D:/Documents/Escuela/8vo. Semestre/Deep Learning/Proyecto_Final/torch/extra/argcheck'...\n",
      "Cloning into 'D:/Documents/Escuela/8vo. Semestre/Deep Learning/Proyecto_Final/torch/extra/cudnn'...\n",
      "Cloning into 'D:/Documents/Escuela/8vo. Semestre/Deep Learning/Proyecto_Final/torch/extra/cunn'...\n",
      "Cloning into 'D:/Documents/Escuela/8vo. Semestre/Deep Learning/Proyecto_Final/torch/extra/cutorch'...\n",
      "Cloning into 'D:/Documents/Escuela/8vo. Semestre/Deep Learning/Proyecto_Final/torch/extra/graph'...\n",
      "Cloning into 'D:/Documents/Escuela/8vo. Semestre/Deep Learning/Proyecto_Final/torch/extra/lua-cjson'...\n",
      "Cloning into 'D:/Documents/Escuela/8vo. Semestre/Deep Learning/Proyecto_Final/torch/extra/luaffifb'...\n",
      "Cloning into 'D:/Documents/Escuela/8vo. Semestre/Deep Learning/Proyecto_Final/torch/extra/luafilesystem'...\n",
      "Cloning into 'D:/Documents/Escuela/8vo. Semestre/Deep Learning/Proyecto_Final/torch/extra/moses'...\n",
      "Cloning into 'D:/Documents/Escuela/8vo. Semestre/Deep Learning/Proyecto_Final/torch/extra/nn'...\n",
      "Cloning into 'D:/Documents/Escuela/8vo. Semestre/Deep Learning/Proyecto_Final/torch/extra/nngraph'...\n",
      "Cloning into 'D:/Documents/Escuela/8vo. Semestre/Deep Learning/Proyecto_Final/torch/extra/nnx'...\n",
      "Cloning into 'D:/Documents/Escuela/8vo. Semestre/Deep Learning/Proyecto_Final/torch/extra/penlight'...\n",
      "Cloning into 'D:/Documents/Escuela/8vo. Semestre/Deep Learning/Proyecto_Final/torch/extra/threads'...\n",
      "Cloning into 'D:/Documents/Escuela/8vo. Semestre/Deep Learning/Proyecto_Final/torch/pkg/cwrap'...\n",
      "Cloning into 'D:/Documents/Escuela/8vo. Semestre/Deep Learning/Proyecto_Final/torch/pkg/dok'...\n",
      "Cloning into 'D:/Documents/Escuela/8vo. Semestre/Deep Learning/Proyecto_Final/torch/pkg/gnuplot'...\n",
      "Cloning into 'D:/Documents/Escuela/8vo. Semestre/Deep Learning/Proyecto_Final/torch/pkg/image'...\n",
      "Cloning into 'D:/Documents/Escuela/8vo. Semestre/Deep Learning/Proyecto_Final/torch/pkg/optim'...\n",
      "Cloning into 'D:/Documents/Escuela/8vo. Semestre/Deep Learning/Proyecto_Final/torch/pkg/paths'...\n",
      "Cloning into 'D:/Documents/Escuela/8vo. Semestre/Deep Learning/Proyecto_Final/torch/pkg/qttorch'...\n",
      "Cloning into 'D:/Documents/Escuela/8vo. Semestre/Deep Learning/Proyecto_Final/torch/pkg/sundown'...\n",
      "Cloning into 'D:/Documents/Escuela/8vo. Semestre/Deep Learning/Proyecto_Final/torch/pkg/sys'...\n",
      "Cloning into 'D:/Documents/Escuela/8vo. Semestre/Deep Learning/Proyecto_Final/torch/pkg/torch'...\n",
      "Cloning into 'D:/Documents/Escuela/8vo. Semestre/Deep Learning/Proyecto_Final/torch/pkg/xlua'...\n"
     ]
    },
    {
     "name": "stdout",
     "output_type": "stream",
     "text": [
      "\n",
      "Submodule path 'exe/luajit-rocks': checked out '411f4b9d9c4be176d4aab965ebfce50911583e14'\n",
      "Submodule path 'exe/qtlua': checked out '8b80419ca2458e172b0d245999114f2b9d4ac118'\n",
      "Submodule path 'exe/trepl': checked out 'e5e17e3a56997123bd6c66cb8575175d3a6945bb'\n",
      "Submodule path 'extra/argcheck': checked out 'b3b32c060c4269c25d11cf9f983c291d9448e1ee'\n",
      "Submodule path 'extra/cudnn': checked out 'fcc8c042f024621932ebffce67655402dd6c634c'\n",
      "Submodule path 'extra/cunn': checked out '9f057781ab34d76370d73cd85f2de31dd0fc7de2'\n",
      "Submodule path 'extra/cutorch': checked out '927e45666c2056f4bd583c8a7ba32cadf19c372a'\n",
      "Submodule path 'extra/graph': checked out '37dac07a19eb3809b8081514bc781206241863a0'\n",
      "Submodule path 'extra/lua-cjson': checked out 'e8972ac754788d3ef10a57a36016d6c3e85ba20d'\n",
      "Submodule path 'extra/luaffifb': checked out '610ce4dc6de318c8f0eb027f052be081349097be'\n",
      "Submodule path 'extra/luafilesystem': checked out '3c4e563d9c140319e28c419f2710b51a2f6d6d24'\n",
      "Submodule path 'extra/moses': checked out 'ded0a9b773bb78ded2c1dd5da721bbee4a3e32c6'\n",
      "Submodule path 'extra/nn': checked out '200ae7d55a3381a232256223c0694498f8f51df0'\n",
      "Submodule path 'extra/nngraph': checked out '3ed3b9ba9d1adf72c1fe15291a1e50b843cf04f9'\n",
      "Submodule path 'extra/nnx': checked out '1c28e231f885899a4ed68266e788306cab2ac07a'\n",
      "Submodule path 'extra/penlight': checked out '6d108e6a699fbafd5dace1019d03f4b4b18231fa'\n",
      "Submodule path 'extra/threads': checked out '7094a90be44ecdd5f9f0b90560473ad27f3bb07d'\n",
      "Submodule path 'pkg/cwrap': checked out 'dbd0a623dc4dfb4b8169d5aecc6dd9aec2f22792'\n",
      "Submodule path 'pkg/dok': checked out '1b36900e1bfa6ee7f48db52c577bdeb7d9e85909'\n",
      "Submodule path 'pkg/gnuplot': checked out 'a75e6782bdd5a7aa3ed5c2a0a88b63a916472c66'\n",
      "Submodule path 'pkg/image': checked out '5aa18819b6a7b44751f8a858bd232d1c07b67985'\n",
      "Submodule path 'pkg/optim': checked out '656c42af1f996e4a5d6aae3b9aeac831ca162241'\n",
      "Submodule path 'pkg/paths': checked out '4ebe222ba12589fb9d86c1d3895d7f509df77b6a'\n",
      "Submodule path 'pkg/qttorch': checked out 'ba5b5a143482857f80237181d5fde0a3ba20477b'\n",
      "Submodule path 'pkg/sundown': checked out '4324669b1adbde92cef2dbf4550428a13a03ca6f'\n",
      "Submodule path 'pkg/sys': checked out 'f073f057d3fd2148866eaa0444a62ababfdf935e'\n",
      "Submodule path 'pkg/torch': checked out '3e9e141ced1afd0cad451e69f90e6e53503647ca'\n",
      "Submodule path 'pkg/xlua': checked out '41308fe696bf8b0892f4ad4f9857d12a87a3f75e'\n"
     ]
    }
   ],
   "source": [
    "!git clone https://github.com/nagadomi/distro.git torch --recursive"
   ]
  },
  {
   "cell_type": "code",
   "execution_count": 10,
   "metadata": {},
   "outputs": [
    {
     "name": "stderr",
     "output_type": "stream",
     "text": [
      "'th' is not recognized as an internal or external command,\n",
      "operable program or batch file.\n"
     ]
    }
   ],
   "source": [
    "!th siggraph_2016/siggraph2016_colorization/colorize.lua dataset/landscape_64x64_bw/00000000.jpg [./ouptut.jpg]"
   ]
  }
 ],
 "metadata": {
  "kernelspec": {
   "display_name": "colorizer_img",
   "language": "python",
   "name": "python3"
  },
  "language_info": {
   "codemirror_mode": {
    "name": "ipython",
    "version": 3
   },
   "file_extension": ".py",
   "mimetype": "text/x-python",
   "name": "python",
   "nbconvert_exporter": "python",
   "pygments_lexer": "ipython3",
   "version": "3.11.8"
  }
 },
 "nbformat": 4,
 "nbformat_minor": 2
}
